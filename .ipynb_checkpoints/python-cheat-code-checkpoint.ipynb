{
 "cells": [
  {
   "cell_type": "code",
   "execution_count": null,
   "id": "f354e0fa",
   "metadata": {},
   "outputs": [],
   "source": [
    "# This is my personal python python cheatcode file"
   ]
  },
  {
   "cell_type": "code",
   "execution_count": 4,
   "id": "5a55a6b8",
   "metadata": {},
   "outputs": [
    {
     "data": {
      "text/plain": [
       "'Doctrings provides a convenient way of associating documentations with python modules.'"
      ]
     },
     "execution_count": 4,
     "metadata": {},
     "output_type": "execute_result"
    }
   ],
   "source": [
    "# COMMENTS:\n",
    "\n",
    "# This line is commented. Python uses the symbol for commenting.\n",
    "\n",
    "# DOCSTRINGS\n",
    "'''Doctrings provides a convenient way of associating documentations with python modules.'''\n",
    "# View this https://www.geeksforgeeks.org/python-docstrings/ for more information\n"
   ]
  },
  {
   "cell_type": "code",
   "execution_count": null,
   "id": "30ad0e09",
   "metadata": {},
   "outputs": [],
   "source": []
  }
 ],
 "metadata": {
  "kernelspec": {
   "display_name": "Python 3 (ipykernel)",
   "language": "python",
   "name": "python3"
  },
  "language_info": {
   "codemirror_mode": {
    "name": "ipython",
    "version": 3
   },
   "file_extension": ".py",
   "mimetype": "text/x-python",
   "name": "python",
   "nbconvert_exporter": "python",
   "pygments_lexer": "ipython3",
   "version": "3.10.9"
  }
 },
 "nbformat": 4,
 "nbformat_minor": 5
}
