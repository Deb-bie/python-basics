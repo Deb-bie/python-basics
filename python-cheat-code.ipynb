{
 "cells": [
  {
   "cell_type": "code",
   "execution_count": null,
   "id": "7dbe16c5",
   "metadata": {},
   "outputs": [],
   "source": [
    "# This is my personal python python cheatcode file"
   ]
  },
  {
   "cell_type": "code",
   "execution_count": 4,
   "id": "d869350c",
   "metadata": {
    "scrolled": true
   },
   "outputs": [
    {
     "data": {
      "text/plain": [
       "'Doctrings provides a convenient way of associating documentations with python modules.'"
      ]
     },
     "execution_count": 4,
     "metadata": {},
     "output_type": "execute_result"
    }
   ],
   "source": [
    "# COMMENTS:\n",
    "\n",
    "# This line is commented. Python uses the symbol for commenting.\n",
    "\n",
    "# DOCSTRINGS\n",
    "'''Doctrings provides a convenient way of associating documentations with python modules.'''\n",
    "# View this https://www.geeksforgeeks.org/python-docstrings/ for more information\n",
    "\n",
    "# CASING\n",
    "# Python uses snake_casing for naming variables and functions. It uses PascalCase for classes.\n"
   ]
  },
  {
   "cell_type": "code",
   "execution_count": 6,
   "id": "1da43d78",
   "metadata": {},
   "outputs": [
    {
     "name": "stdout",
     "output_type": "stream",
     "text": [
      "I'm learning python\n",
      "Smith Ariel\n"
     ]
    }
   ],
   "source": [
    "'''VARIABLES & STRINGS'''\n",
    "\n",
    "message = \"I'm learning python\"\n",
    "print(message)\n",
    "\n",
    "# string concatenation\n",
    "last_name = \"Smith\"\n",
    "first_name = \"Ariel\"\n",
    "print(last_name + ' ' + first_name)"
   ]
  },
  {
   "cell_type": "code",
   "execution_count": 24,
   "id": "1a657587",
   "metadata": {},
   "outputs": [
    {
     "name": "stdout",
     "output_type": "stream",
     "text": [
      "4\n",
      "apple\n",
      "mangoes\n",
      "this oranges or that oranges\n",
      "['apple', 'pineapple', 'banana', 'mangoes', 'oranges']\n",
      "['apple', 'pineapple', 'banana', 'mangoes', 'oranges', 'grapes']\n",
      "apple\n",
      "pineapple\n",
      "banana\n",
      "mangoes\n",
      "oranges\n",
      "grapes\n",
      "0 apple\n",
      "1 pineapple\n",
      "2 banana\n",
      "3 mangoes\n",
      "4 oranges\n",
      "5 grapes\n",
      "[1, 4, 9, 16, 25, 36, 49, 64, 81, 100]\n",
      "['apple', 'pineapple', 'banana']\n",
      "['oranges', 'grapes']\n",
      "['apple', 'pineapple', 'banana', 'mangoes', 'oranges', 'grapes']\n",
      "['pineapple', 'banana', 'mangoes', 'oranges']\n"
     ]
    }
   ],
   "source": [
    "'''LISTS'''\n",
    "\n",
    "fruits = ['apple', 'banana', 'mangoes', 'oranges']\n",
    "\n",
    "# checking the length of a list\n",
    "total_number_of_fruits = len(fruits)\n",
    "print(total_number_of_fruits)\n",
    "\n",
    "# get first item in the list\n",
    "first_item = fruits[0]\n",
    "print(first_item)\n",
    "\n",
    "# get third item in the list\n",
    "third_item = fruits[2]\n",
    "print(third_item)\n",
    "\n",
    "# get the last item in the list\n",
    "last_item = fruits[3]\n",
    "last_item_when_list_size_is_unknown = fruits[-1]\n",
    "print('this ' +last_item + ' or that ' + last_item_when_list_size_is_unknown)\n",
    "\n",
    "# add an item to the second position in the list\n",
    "fruits.insert(1, 'pineapple')\n",
    "print(fruits)\n",
    "\n",
    "# add an item to the list without specifying the position --> adds the item to the end of the list\n",
    "fruits.append('grapes')\n",
    "print(fruits)\n",
    "\n",
    "# loop through the list:\n",
    "for fruit in fruits:\n",
    "    print(fruit)\n",
    "    \n",
    "\n",
    "# using range\n",
    "my_favorite_fruits = []\n",
    "for item in range(0, len(fruits)): #the starting number is inclusive, the ending isn't\n",
    "    print(item, fruits[item])\n",
    "    \n",
    "\n",
    "# list comprehension\n",
    "squares = [x**2 for x in range(1, 11)]\n",
    "print(squares)\n",
    "\n",
    "# slicing a list: the starting nuumber is inclusive but the ending number is not inclusive\n",
    "the_first_three_fruits = fruits[:3]\n",
    "print(the_first_three_fruits)\n",
    "\n",
    "the_last_two_fruits = fruits[4:] # the starting number is inclusive\n",
    "print(the_last_two_fruits)\n",
    "\n",
    "all_fruits = fruits[:]\n",
    "print(all_fruits)\n",
    "\n",
    "all_fruits_without_the_first_or_last = fruits[1:5]\n",
    "print(all_fruits_without_the_first_or_last)"
   ]
  },
  {
   "cell_type": "code",
   "execution_count": 25,
   "id": "149f15be",
   "metadata": {},
   "outputs": [
    {
     "name": "stdout",
     "output_type": "stream",
     "text": [
      "(10, 22)\n"
     ]
    }
   ],
   "source": [
    "'''TUPLES'''\n",
    "# Tuples are similar to a list, but the items in a tuple cannot be modified\n",
    "dimensions = (10, 22)\n",
    "print(dimensions)"
   ]
  },
  {
   "cell_type": "code",
   "execution_count": 40,
   "id": "eb64c693",
   "metadata": {},
   "outputs": [
    {
     "name": "stdout",
     "output_type": "stream",
     "text": [
      "False\n",
      "True\n",
      "Hurray, we will eat oranges today\n",
      "10\n"
     ]
    }
   ],
   "source": [
    "'''IF STATEMENTS'''\n",
    "\n",
    "'''\n",
    "equals x == 42\n",
    "not equal x != 42\n",
    "greater than x > 42\n",
    " or equal to x >= 42\n",
    "less than x < 42\n",
    " or equal to x <= 42\n",
    " \n",
    "'''\n",
    "kiwi_in_fruits = 'kiwi' in fruits\n",
    "print(kiwi_in_fruits)\n",
    "\n",
    "\n",
    "kiwi_is_not_in_fruits = 'kiwi' not in fruits\n",
    "print(kiwi_is_not_in_fruits)\n",
    "\n",
    "\n",
    "# assigning booleans\n",
    "is_pet = False\n",
    "is_fruit = True\n",
    "\n",
    "# statements\n",
    "if('oranges' in fruits):\n",
    "    print(\"Hurray, we will eat oranges today\")\n",
    "else:\n",
    "    print(\"owwww\")\n",
    "\n",
    "age = 12\n",
    "\n",
    "if age < 4:\n",
    " ticket_price = 0\n",
    "elif age < 18:\n",
    " ticket_price = 10\n",
    "else:\n",
    " ticket_price = 15\n",
    "\n",
    "print(ticket_price)"
   ]
  },
  {
   "cell_type": "code",
   "execution_count": 43,
   "id": "2abeb986",
   "metadata": {},
   "outputs": [
    {
     "name": "stdout",
     "output_type": "stream",
     "text": [
      "{'color': 'green', 'points': 5}\n",
      "The alien's color is green\n",
      "{'color': 'green', 'points': 5, 'age': 33}\n",
      "eric loves 17\n",
      "ever loves 4\n",
      "eric loves a number\n",
      "ever loves a number\n",
      "17 is a favorite\n",
      "4 is a favorite\n"
     ]
    }
   ],
   "source": [
    "'''\n",
    "DICTIONARY\n",
    "- Dictionaries store connections between pieces of information. Each item in a dictionary is a key-value pair\n",
    "'''\n",
    "alien = {'color': 'green', 'points': 5}\n",
    "print(alien)\n",
    "\n",
    "# accessing a value\n",
    "print(\"The alien's color is \" + alien['color'])\n",
    "\n",
    "# Adding a new key-value pair\n",
    "alien['age'] = 33\n",
    "\n",
    "print(alien)\n",
    "\n",
    "# Looping through all key-value pairs\n",
    "fav_numbers = {'eric': 17, 'ever': 4}\n",
    "for name, number in fav_numbers.items():\n",
    " print(name + ' loves ' + str(number))\n",
    "\n",
    "# Looping through all keys\n",
    "fav_numbers = {'eric': 17, 'ever': 4}\n",
    "for name in fav_numbers.keys():\n",
    " print(name + ' loves a number')\n",
    "\n",
    "\n",
    "# Looping through all the values\n",
    "fav_numbers = {'eric': 17, 'ever': 4}\n",
    "for number in fav_numbers.values():\n",
    " print(str(number) + ' is a favorite')\n"
   ]
  },
  {
   "cell_type": "code",
   "execution_count": 47,
   "id": "b703a070",
   "metadata": {},
   "outputs": [
    {
     "name": "stdout",
     "output_type": "stream",
     "text": [
      "What is your name? Ariel\n",
      "So your name is Ariel\n",
      "How old are you? 2\n",
      "I'm 2 years old\n"
     ]
    }
   ],
   "source": [
    "'''USER INPUT'''\n",
    "\n",
    "# prompting a user for input\n",
    "name = input(\"What is your name? \")\n",
    "print(\"So your name is \" + name)\n",
    "\n",
    "# prompting for numerical input\n",
    "age = int(input(\"How old are you? \"))\n",
    "print(\"I'm \" + str(age) + \" years old\")"
   ]
  },
  {
   "cell_type": "code",
   "execution_count": 48,
   "id": "a866f4c2",
   "metadata": {},
   "outputs": [
    {
     "name": "stdout",
     "output_type": "stream",
     "text": [
      "1\n",
      "2\n",
      "3\n",
      "4\n",
      "5\n",
      "What's your message? hi\n",
      "hi\n",
      "What's your message? hello\n",
      "hello\n",
      "What's your message? q\n",
      "q\n",
      "What's your message? qu\n",
      "qu\n",
      "What's your message? quit\n",
      "quit\n"
     ]
    }
   ],
   "source": [
    "'''\n",
    "WHILE LOOPS\n",
    "- a while loop repeats a block of code as long as a certain condition is true.\n",
    "'''\n",
    "\n",
    "current_value = 1\n",
    "while current_value <= 5:\n",
    "    print(current_value)\n",
    "    current_value += 1\n",
    "\n",
    "    \n",
    "# Letting the user choose when to quit\n",
    "msg = ''\n",
    "while msg != 'quit':\n",
    "    msg = input(\"What's your message? \")\n",
    "    print(msg)"
   ]
  },
  {
   "cell_type": "code",
   "execution_count": 3,
   "id": "f4e7ea0c",
   "metadata": {},
   "outputs": [
    {
     "name": "stdout",
     "output_type": "stream",
     "text": [
      "Hello!\n",
      "Hello, Ariel!\n",
      "Hi! this is my friend Ariel\n",
      "Hi! this is my friend Debss\n",
      "7\n"
     ]
    }
   ],
   "source": [
    "'''\n",
    "FUNCTIONS\n",
    "- Functions are named blocks of code, designed to do one specific job. \n",
    "  Information passed to a function is called an argument, and information received by a function is called a parameter\n",
    "'''\n",
    "\n",
    "# a simple function\n",
    "\n",
    "def greet_user():\n",
    "    print(\"Hello!\")\n",
    "greet_user()\n",
    "\n",
    "\n",
    "# passing an argument\n",
    "def greet_user(username):\n",
    "    print(\"Hello, \" + username + \"!\")\n",
    "greet_user('Ariel')\n",
    "\n",
    "# using default values as parameters\n",
    "def meet_my_friend(name=\"Ariel\"):\n",
    "    print(\"Hi! this is my friend \" + name)\n",
    "\n",
    "meet_my_friend()\n",
    "meet_my_friend(\"Debss\")\n",
    "\n",
    "# returning a value\n",
    "def add_numbers(x, y):\n",
    "    '''Add two numbers and return the sum'''\n",
    "    return x + y\n",
    "\n",
    "sum = add_numbers(2, 5)\n",
    "print(sum)"
   ]
  },
  {
   "cell_type": "code",
   "execution_count": 4,
   "id": "76225926",
   "metadata": {},
   "outputs": [
    {
     "name": "stdout",
     "output_type": "stream",
     "text": [
      "Peace is a great dog!\n",
      "Peace is sitting.\n"
     ]
    }
   ],
   "source": [
    "'''\n",
    "CLASSES\n",
    "\n",
    "A class defines the behavior of an object and the kind of information an object can store. \n",
    "The information in a class is stored in attributes, and functions that belong to a class are called methods. \n",
    "A child class inherits the attributes and methods from its parent class.\n",
    "\n",
    "every method in python must start with the \"self\" parameter. any name can be used in place of the self just that the naming must be consistent.\n",
    "after you use the self, then the other parameters can now come.\n",
    "\n",
    "the __init__() method: this function is like the constructor of the class. it is called automatically every time the class is being used to create a new object.\n",
    "\n",
    "the __str__() function: this controls what should be returned when the class object is represented as a string. \n",
    "If the __str__() function is not set, the string representation of the object is returned\n",
    "\n",
    "'''\n",
    "\n",
    "# creating a dog class\n",
    "class Dog():\n",
    "    '''represents a dog.'''\n",
    "\n",
    "    def __init__(self, name):\n",
    "        '''constructor of the class. it initializes the dog object'''\n",
    "        self.name = name\n",
    "    \n",
    "    def sit(self):\n",
    "        '''simulate sitting'''\n",
    "        print(self.name + \" is sitting.\")\n",
    "\n",
    "my_dog = Dog(\"Peace\")\n",
    "\n",
    "print(my_dog.name + \" is a great dog!\")\n",
    "my_dog.sit()\n",
    "\n"
   ]
  }
 ],
 "metadata": {
  "kernelspec": {
   "display_name": "Python 3 (ipykernel)",
   "language": "python",
   "name": "python3"
  },
  "language_info": {
   "codemirror_mode": {
    "name": "ipython",
    "version": 3
   },
   "file_extension": ".py",
   "mimetype": "text/x-python",
   "name": "python",
   "nbconvert_exporter": "python",
   "pygments_lexer": "ipython3",
   "version": "3.10.9"
  }
 },
 "nbformat": 4,
 "nbformat_minor": 5
}
